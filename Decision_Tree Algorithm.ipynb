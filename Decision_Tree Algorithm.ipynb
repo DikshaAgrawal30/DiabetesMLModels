{
 "cells": [
  {
   "cell_type": "markdown",
   "id": "d317e581",
   "metadata": {},
   "source": [
    "# Decision_Tree Algorithm"
   ]
  },
  {
   "cell_type": "code",
   "execution_count": 1,
   "id": "fd5a149a",
   "metadata": {},
   "outputs": [],
   "source": [
    "#importing Libraries \n",
    "\n",
    "import numpy as np\n",
    "import pandas as pd\n",
    "from sklearn.model_selection import train_test_split\n",
    "from sklearn.tree import DecisionTreeClassifier\n",
    "from sklearn import metrics \n",
    "from sklearn.metrics import recall_score\n",
    "from sklearn.metrics import precision_score"
   ]
  },
  {
   "cell_type": "code",
   "execution_count": 2,
   "id": "73e01fe0",
   "metadata": {},
   "outputs": [],
   "source": [
    "import matplotlib.pyplot as plt\n",
    "import seaborn as sns"
   ]
  },
  {
   "cell_type": "markdown",
   "id": "b8be1e8e",
   "metadata": {},
   "source": [
    "#Loading The PIMA Indian Diabetes dataset and Pre-Processing"
   ]
  },
  {
   "cell_type": "code",
   "execution_count": 3,
   "id": "9adf2a8f",
   "metadata": {},
   "outputs": [
    {
     "data": {
      "text/html": [
       "<div>\n",
       "<style scoped>\n",
       "    .dataframe tbody tr th:only-of-type {\n",
       "        vertical-align: middle;\n",
       "    }\n",
       "\n",
       "    .dataframe tbody tr th {\n",
       "        vertical-align: top;\n",
       "    }\n",
       "\n",
       "    .dataframe thead th {\n",
       "        text-align: right;\n",
       "    }\n",
       "</style>\n",
       "<table border=\"1\" class=\"dataframe\">\n",
       "  <thead>\n",
       "    <tr style=\"text-align: right;\">\n",
       "      <th></th>\n",
       "      <th>Pregnancies</th>\n",
       "      <th>Glucose</th>\n",
       "      <th>BloodPressure</th>\n",
       "      <th>SkinThickness</th>\n",
       "      <th>Insulin</th>\n",
       "      <th>BMI</th>\n",
       "      <th>DiabetesPedigreeFunction</th>\n",
       "      <th>Age</th>\n",
       "      <th>Outcome</th>\n",
       "    </tr>\n",
       "  </thead>\n",
       "  <tbody>\n",
       "    <tr>\n",
       "      <th>0</th>\n",
       "      <td>6</td>\n",
       "      <td>148</td>\n",
       "      <td>72</td>\n",
       "      <td>35</td>\n",
       "      <td>0</td>\n",
       "      <td>33.6</td>\n",
       "      <td>0.627</td>\n",
       "      <td>50</td>\n",
       "      <td>1</td>\n",
       "    </tr>\n",
       "    <tr>\n",
       "      <th>1</th>\n",
       "      <td>1</td>\n",
       "      <td>85</td>\n",
       "      <td>66</td>\n",
       "      <td>29</td>\n",
       "      <td>0</td>\n",
       "      <td>26.6</td>\n",
       "      <td>0.351</td>\n",
       "      <td>31</td>\n",
       "      <td>0</td>\n",
       "    </tr>\n",
       "    <tr>\n",
       "      <th>2</th>\n",
       "      <td>8</td>\n",
       "      <td>183</td>\n",
       "      <td>64</td>\n",
       "      <td>0</td>\n",
       "      <td>0</td>\n",
       "      <td>23.3</td>\n",
       "      <td>0.672</td>\n",
       "      <td>32</td>\n",
       "      <td>1</td>\n",
       "    </tr>\n",
       "    <tr>\n",
       "      <th>3</th>\n",
       "      <td>1</td>\n",
       "      <td>89</td>\n",
       "      <td>66</td>\n",
       "      <td>23</td>\n",
       "      <td>94</td>\n",
       "      <td>28.1</td>\n",
       "      <td>0.167</td>\n",
       "      <td>21</td>\n",
       "      <td>0</td>\n",
       "    </tr>\n",
       "    <tr>\n",
       "      <th>4</th>\n",
       "      <td>0</td>\n",
       "      <td>137</td>\n",
       "      <td>40</td>\n",
       "      <td>35</td>\n",
       "      <td>168</td>\n",
       "      <td>43.1</td>\n",
       "      <td>2.288</td>\n",
       "      <td>33</td>\n",
       "      <td>1</td>\n",
       "    </tr>\n",
       "  </tbody>\n",
       "</table>\n",
       "</div>"
      ],
      "text/plain": [
       "   Pregnancies  Glucose  BloodPressure  SkinThickness  Insulin   BMI  \\\n",
       "0            6      148             72             35        0  33.6   \n",
       "1            1       85             66             29        0  26.6   \n",
       "2            8      183             64              0        0  23.3   \n",
       "3            1       89             66             23       94  28.1   \n",
       "4            0      137             40             35      168  43.1   \n",
       "\n",
       "   DiabetesPedigreeFunction  Age  Outcome  \n",
       "0                     0.627   50        1  \n",
       "1                     0.351   31        0  \n",
       "2                     0.672   32        1  \n",
       "3                     0.167   21        0  \n",
       "4                     2.288   33        1  "
      ]
     },
     "execution_count": 3,
     "metadata": {},
     "output_type": "execute_result"
    }
   ],
   "source": [
    "data = pd.read_csv(\"diabetes.csv\")\n",
    "data.head()"
   ]
  },
  {
   "cell_type": "markdown",
   "id": "26e78997",
   "metadata": {},
   "source": [
    "#Finding Missing Value"
   ]
  },
  {
   "cell_type": "code",
   "execution_count": 4,
   "id": "b165e5f0",
   "metadata": {},
   "outputs": [
    {
     "data": {
      "text/plain": [
       "False"
      ]
     },
     "execution_count": 4,
     "metadata": {},
     "output_type": "execute_result"
    }
   ],
   "source": [
    "data.isnull().values.any()"
   ]
  },
  {
   "cell_type": "markdown",
   "id": "f8ee4971",
   "metadata": {},
   "source": [
    "#Removing records with non-zero Insulin Attribute"
   ]
  },
  {
   "cell_type": "code",
   "execution_count": 5,
   "id": "509815d2",
   "metadata": {},
   "outputs": [],
   "source": [
    "data.drop(data[data['Insulin'] > 0].index, inplace = True) # droping the rows of people who already take insulin\n",
    "#data = data.drop(\"Insulin\", axis='columns')"
   ]
  },
  {
   "cell_type": "code",
   "execution_count": 6,
   "id": "5e96cd1f",
   "metadata": {},
   "outputs": [
    {
     "name": "stdout",
     "output_type": "stream",
     "text": [
      "<class 'pandas.core.frame.DataFrame'>\n",
      "Int64Index: 374 entries, 0 to 767\n",
      "Data columns (total 9 columns):\n",
      " #   Column                    Non-Null Count  Dtype  \n",
      "---  ------                    --------------  -----  \n",
      " 0   Pregnancies               374 non-null    int64  \n",
      " 1   Glucose                   374 non-null    int64  \n",
      " 2   BloodPressure             374 non-null    int64  \n",
      " 3   SkinThickness             374 non-null    int64  \n",
      " 4   Insulin                   374 non-null    int64  \n",
      " 5   BMI                       374 non-null    float64\n",
      " 6   DiabetesPedigreeFunction  374 non-null    float64\n",
      " 7   Age                       374 non-null    int64  \n",
      " 8   Outcome                   374 non-null    int64  \n",
      "dtypes: float64(2), int64(7)\n",
      "memory usage: 29.2 KB\n"
     ]
    }
   ],
   "source": [
    "data.info()"
   ]
  },
  {
   "cell_type": "markdown",
   "id": "0ebf7214",
   "metadata": {},
   "source": [
    "#Correlation Matrix to check the relationship between attributes and find out the most and least correlated attributes"
   ]
  },
  {
   "cell_type": "code",
   "execution_count": 8,
   "id": "9ded6d01",
   "metadata": {},
   "outputs": [
    {
     "data": {
      "text/plain": [
       "<AxesSubplot:>"
      ]
     },
     "execution_count": 8,
     "metadata": {},
     "output_type": "execute_result"
    },
    {
     "data": {
      "image/png": "[encoded data removed]",
      "text/plain": [
       "<Figure size 432x288 with 2 Axes>"
      ]
     },
     "metadata": {
      "needs_background": "light"
     },
     "output_type": "display_data"
    }
   ],
   "source": [
    "sns.heatmap(data.corr(),annot = True)"
   ]
  },
  {
   "cell_type": "code",
   "execution_count": 9,
   "id": "ae76d26b",
   "metadata": {},
   "outputs": [
    {
     "data": {
      "text/html": [
       "<div>\n",
       "<style scoped>\n",
       "    .dataframe tbody tr th:only-of-type {\n",
       "        vertical-align: middle;\n",
       "    }\n",
       "\n",
       "    .dataframe tbody tr th {\n",
       "        vertical-align: top;\n",
       "    }\n",
       "\n",
       "    .dataframe thead th {\n",
       "        text-align: right;\n",
       "    }\n",
       "</style>\n",
       "<table border=\"1\" class=\"dataframe\">\n",
       "  <thead>\n",
       "    <tr style=\"text-align: right;\">\n",
       "      <th></th>\n",
       "      <th>Pregnancies</th>\n",
       "      <th>Glucose</th>\n",
       "      <th>BloodPressure</th>\n",
       "      <th>SkinThickness</th>\n",
       "      <th>Insulin</th>\n",
       "      <th>BMI</th>\n",
       "      <th>DiabetesPedigreeFunction</th>\n",
       "      <th>Age</th>\n",
       "      <th>Outcome</th>\n",
       "    </tr>\n",
       "  </thead>\n",
       "  <tbody>\n",
       "    <tr>\n",
       "      <th>Pregnancies</th>\n",
       "      <td>1.000000</td>\n",
       "      <td>0.080393</td>\n",
       "      <td>0.140104</td>\n",
       "      <td>-0.038071</td>\n",
       "      <td>NaN</td>\n",
       "      <td>0.084547</td>\n",
       "      <td>-0.011130</td>\n",
       "      <td>0.409821</td>\n",
       "      <td>0.179527</td>\n",
       "    </tr>\n",
       "    <tr>\n",
       "      <th>Glucose</th>\n",
       "      <td>0.080393</td>\n",
       "      <td>1.000000</td>\n",
       "      <td>0.132263</td>\n",
       "      <td>-0.071864</td>\n",
       "      <td>NaN</td>\n",
       "      <td>0.225404</td>\n",
       "      <td>0.122815</td>\n",
       "      <td>0.227916</td>\n",
       "      <td>0.426842</td>\n",
       "    </tr>\n",
       "    <tr>\n",
       "      <th>BloodPressure</th>\n",
       "      <td>0.140104</td>\n",
       "      <td>0.132263</td>\n",
       "      <td>1.000000</td>\n",
       "      <td>0.183436</td>\n",
       "      <td>NaN</td>\n",
       "      <td>0.273734</td>\n",
       "      <td>0.062368</td>\n",
       "      <td>0.256583</td>\n",
       "      <td>0.008981</td>\n",
       "    </tr>\n",
       "    <tr>\n",
       "      <th>SkinThickness</th>\n",
       "      <td>-0.038071</td>\n",
       "      <td>-0.071864</td>\n",
       "      <td>0.183436</td>\n",
       "      <td>1.000000</td>\n",
       "      <td>NaN</td>\n",
       "      <td>0.232953</td>\n",
       "      <td>0.085492</td>\n",
       "      <td>-0.090509</td>\n",
       "      <td>0.023583</td>\n",
       "    </tr>\n",
       "    <tr>\n",
       "      <th>Insulin</th>\n",
       "      <td>NaN</td>\n",
       "      <td>NaN</td>\n",
       "      <td>NaN</td>\n",
       "      <td>NaN</td>\n",
       "      <td>NaN</td>\n",
       "      <td>NaN</td>\n",
       "      <td>NaN</td>\n",
       "      <td>NaN</td>\n",
       "      <td>NaN</td>\n",
       "    </tr>\n",
       "    <tr>\n",
       "      <th>BMI</th>\n",
       "      <td>0.084547</td>\n",
       "      <td>0.225404</td>\n",
       "      <td>0.273734</td>\n",
       "      <td>0.232953</td>\n",
       "      <td>NaN</td>\n",
       "      <td>1.000000</td>\n",
       "      <td>0.134007</td>\n",
       "      <td>0.054982</td>\n",
       "      <td>0.327469</td>\n",
       "    </tr>\n",
       "    <tr>\n",
       "      <th>DiabetesPedigreeFunction</th>\n",
       "      <td>-0.011130</td>\n",
       "      <td>0.122815</td>\n",
       "      <td>0.062368</td>\n",
       "      <td>0.085492</td>\n",
       "      <td>NaN</td>\n",
       "      <td>0.134007</td>\n",
       "      <td>1.000000</td>\n",
       "      <td>0.068771</td>\n",
       "      <td>0.164146</td>\n",
       "    </tr>\n",
       "    <tr>\n",
       "      <th>Age</th>\n",
       "      <td>0.409821</td>\n",
       "      <td>0.227916</td>\n",
       "      <td>0.256583</td>\n",
       "      <td>-0.090509</td>\n",
       "      <td>NaN</td>\n",
       "      <td>0.054982</td>\n",
       "      <td>0.068771</td>\n",
       "      <td>1.000000</td>\n",
       "      <td>0.140380</td>\n",
       "    </tr>\n",
       "    <tr>\n",
       "      <th>Outcome</th>\n",
       "      <td>0.179527</td>\n",
       "      <td>0.426842</td>\n",
       "      <td>0.008981</td>\n",
       "      <td>0.023583</td>\n",
       "      <td>NaN</td>\n",
       "      <td>0.327469</td>\n",
       "      <td>0.164146</td>\n",
       "      <td>0.140380</td>\n",
       "      <td>1.000000</td>\n",
       "    </tr>\n",
       "  </tbody>\n",
       "</table>\n",
       "</div>"
      ],
      "text/plain": [
       "                          Pregnancies   Glucose  BloodPressure  SkinThickness  \\\n",
       "Pregnancies                  1.000000  0.080393       0.140104      -0.038071   \n",
       "Glucose                      0.080393  1.000000       0.132263      -0.071864   \n",
       "BloodPressure                0.140104  0.132263       1.000000       0.183436   \n",
       "SkinThickness               -0.038071 -0.071864       0.183436       1.000000   \n",
       "Insulin                           NaN       NaN            NaN            NaN   \n",
       "BMI                          0.084547  0.225404       0.273734       0.232953   \n",
       "DiabetesPedigreeFunction    -0.011130  0.122815       0.062368       0.085492   \n",
       "Age                          0.409821  0.227916       0.256583      -0.090509   \n",
       "Outcome                      0.179527  0.426842       0.008981       0.023583   \n",
       "\n",
       "                          Insulin       BMI  DiabetesPedigreeFunction  \\\n",
       "Pregnancies                   NaN  0.084547                 -0.011130   \n",
       "Glucose                       NaN  0.225404                  0.122815   \n",
       "BloodPressure                 NaN  0.273734                  0.062368   \n",
       "SkinThickness                 NaN  0.232953                  0.085492   \n",
       "Insulin                       NaN       NaN                       NaN   \n",
       "BMI                           NaN  1.000000                  0.134007   \n",
       "DiabetesPedigreeFunction      NaN  0.134007                  1.000000   \n",
       "Age                           NaN  0.054982                  0.068771   \n",
       "Outcome                       NaN  0.327469                  0.164146   \n",
       "\n",
       "                               Age   Outcome  \n",
       "Pregnancies               0.409821  0.179527  \n",
       "Glucose                   0.227916  0.426842  \n",
       "BloodPressure             0.256583  0.008981  \n",
       "SkinThickness            -0.090509  0.023583  \n",
       "Insulin                        NaN       NaN  \n",
       "BMI                       0.054982  0.327469  \n",
       "DiabetesPedigreeFunction  0.068771  0.164146  \n",
       "Age                       1.000000  0.140380  \n",
       "Outcome                   0.140380  1.000000  "
      ]
     },
     "execution_count": 9,
     "metadata": {},
     "output_type": "execute_result"
    }
   ],
   "source": [
    "data.corr()"
   ]
  },
  {
   "cell_type": "markdown",
   "id": "3c7729e0",
   "metadata": {},
   "source": [
    "#Dropping features one at a time with lowest correlation to check if it affects accuracy"
   ]
  },
  {
   "cell_type": "code",
   "execution_count": 10,
   "id": "4251ecbc",
   "metadata": {},
   "outputs": [],
   "source": [
    "x =data[['Pregnancies','Glucose','BloodPressure','SkinThickness','BMI','DiabetesPedigreeFunction','Age']]\n",
    "\n",
    "#x = data[['Pregnancies','Glucose','SkinThickness','BMI','DiabetesPedigreeFunction','Age']] # BloodPressure drp\n",
    "#x = data[['Pregnancies','Glucose','BloodPressure','BMI','DiabetesPedigreeFunction','Age']] #SkinThickness drp\n",
    "#x = data[['Pregnancies','Glucose','BloodPressure','SkinThickness','BMI','DiabetesPedigreeFunction',]] # Age drp\n",
    "#x = data[['Pregnancies','Glucose','BloodPressure','SkinThickness','BMI','Age']] #'DiabetesPedigreeFunction' drp\n",
    "#x = data[['Glucose','BloodPressure','SkinThickness','BMI','DiabetesPedigreeFunction','Age']] # Pregnancies drp\n",
    "\n",
    "y = data['Outcome']"
   ]
  },
  {
   "cell_type": "markdown",
   "id": "219fb147",
   "metadata": {},
   "source": [
    "#Dividing the dataset into training and testing"
   ]
  },
  {
   "cell_type": "code",
   "execution_count": 11,
   "id": "73bdee5e",
   "metadata": {},
   "outputs": [],
   "source": [
    "x_train, x_test , y_train , y_test = train_test_split(x,y,test_size = 0.2 , random_state = 0 , shuffle = False)"
   ]
  },
  {
   "cell_type": "code",
   "execution_count": 12,
   "id": "93651a69",
   "metadata": {},
   "outputs": [],
   "source": [
    "# defining the Decision Tree classifier \n",
    "\n",
    "decision_clf = DecisionTreeClassifier(random_state = 0)"
   ]
  },
  {
   "cell_type": "code",
   "execution_count": 13,
   "id": "7dd39b42",
   "metadata": {},
   "outputs": [
    {
     "data": {
      "text/plain": [
       "DecisionTreeClassifier(random_state=0)"
      ]
     },
     "execution_count": 13,
     "metadata": {},
     "output_type": "execute_result"
    }
   ],
   "source": [
    "# passing training set to decision classifier\n",
    "\n",
    "decision_clf.fit(x_train , y_train)"
   ]
  },
  {
   "cell_type": "code",
   "execution_count": 14,
   "id": "34bab582",
   "metadata": {},
   "outputs": [
    {
     "name": "stdout",
     "output_type": "stream",
     "text": [
      "DecisionTreeClassifier(random_state=0)\n"
     ]
    }
   ],
   "source": [
    "print(decision_clf)"
   ]
  },
  {
   "cell_type": "code",
   "execution_count": 15,
   "id": "6a58a381",
   "metadata": {},
   "outputs": [
    {
     "name": "stdout",
     "output_type": "stream",
     "text": [
      "Accuracy :  0.6\n"
     ]
    }
   ],
   "source": [
    "# using trained classifier on testing set for prediction\n",
    "\n",
    "y_pred = decision_clf.predict(x_test)\n",
    "print(\"Accuracy : \", metrics.accuracy_score(y_test , y_pred))"
   ]
  },
  {
   "cell_type": "code",
   "execution_count": 16,
   "id": "8983fbfb",
   "metadata": {},
   "outputs": [
    {
     "data": {
      "image/png": "[encoded data removed]",
      "text/plain": [
       "<Figure size 432x288 with 2 Axes>"
      ]
     },
     "metadata": {
      "needs_background": "light"
     },
     "output_type": "display_data"
    }
   ],
   "source": [
    "# Confusion Matrix\n",
    "\n",
    "import matplotlib.pyplot as plt\n",
    "from sklearn.metrics import confusion_matrix\n",
    "import seaborn as sns\n",
    "cm = confusion_matrix(y_test,y_pred,labels = [0 ,1])\n",
    "sns.heatmap(cm, annot=True, fmt=\"d\", cmap=\"Blues\")\n",
    "plt.xlabel(\"Predicted Value\")\n",
    "plt.ylabel(\"Actual Value\")\n",
    "plt.show()\n",
    "\n",
    "#print('confusion metrics :', metrics.confusion_matrix(y_test,y_pred)) #confusion metrics"
   ]
  },
  {
   "cell_type": "code",
   "execution_count": 17,
   "id": "fdd496ed",
   "metadata": {},
   "outputs": [
    {
     "name": "stdout",
     "output_type": "stream",
     "text": [
      "Recall score is :0.5\n"
     ]
    }
   ],
   "source": [
    "# calculating recall\n",
    "\n",
    "recall =  recall_score(y_test, y_pred)\n",
    "print(f\"Recall score is :{recall}\")"
   ]
  },
  {
   "cell_type": "code",
   "execution_count": 20,
   "id": "d7d688d9",
   "metadata": {},
   "outputs": [
    {
     "name": "stdout",
     "output_type": "stream",
     "text": [
      "Precision score is :0.5\n"
     ]
    }
   ],
   "source": [
    "# calculating Precision\n",
    "\n",
    "precision =  precision_score(y_test, y_pred)\n",
    "print(f\"Precision score is :{precision}\")"
   ]
  },
  {
   "cell_type": "code",
   "execution_count": 21,
   "id": "4397fe89",
   "metadata": {},
   "outputs": [
    {
     "name": "stdout",
     "output_type": "stream",
     "text": [
      "F1 score is :0.5\n"
     ]
    }
   ],
   "source": [
    "# calculating F1 Score\n",
    "\n",
    "f1_score = 2 * (precision * recall) / (precision + recall)\n",
    "print(f\"F1 score is :{f1_score}\")"
   ]
  }
 ],
 "metadata": {
  "kernelspec": {
   "display_name": "Python 3 (ipykernel)",
   "language": "python",
   "name": "python3"
  },
  "language_info": {
   "codemirror_mode": {
    "name": "ipython",
    "version": 3
   },
   "file_extension": ".py",
   "mimetype": "text/x-python",
   "name": "python",
   "nbconvert_exporter": "python",
   "pygments_lexer": "ipython3",
   "version": "3.9.12"
  }
 },
 "nbformat": 4,
 "nbformat_minor": 5
}
